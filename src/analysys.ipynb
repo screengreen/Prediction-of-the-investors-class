{
 "cells": [
  {
   "cell_type": "code",
   "execution_count": null,
   "metadata": {},
   "outputs": [],
   "source": [
    "import pandas as pd\n",
    "import numpy as np\n",
    "import matplotlib.pyplot as plt\n",
    "import seaborn as sns"
   ]
  },
  {
   "cell_type": "code",
   "execution_count": null,
   "metadata": {},
   "outputs": [],
   "source": [
    "from train_models import df"
   ]
  },
  {
   "cell_type": "code",
   "execution_count": null,
   "metadata": {},
   "outputs": [],
   "source": [
    "data = df\n",
    "data.info() #изучим общую информацию о данных"
   ]
  },
  {
   "cell_type": "code",
   "execution_count": null,
   "metadata": {},
   "outputs": [],
   "source": [
    "# приведем данные к нужному типу\n",
    "data['start_sum'] = data['start_sum'].str.replace(\" \", \"\").str.replace(',','.').astype(float)\n",
    "data['income_rub'] = data['income_rub'].str.replace(\" \", \"\").str.replace(',','.').astype(float)\n",
    "data['income_percent'] = data['income_percent'].str.replace(\"-\", \"0\").str.replace(',','.').astype(float)"
   ]
  },
  {
   "cell_type": "code",
   "execution_count": null,
   "metadata": {},
   "outputs": [],
   "source": [
    "#посмотрим долю пропусков\n",
    "pd.DataFrame(data.isna().mean()*100)\n",
    "\n",
    "print('Число дубликатов:', data.duplicated().sum()) #проверим нет ли явных дубликатов\n",
    "\n",
    "data.describe()"
   ]
  },
  {
   "cell_type": "code",
   "execution_count": null,
   "metadata": {},
   "outputs": [],
   "source": [
    "def draw_hist_and_boxplot(column):\n",
    "    figure, ax = plt.subplots(1, 2, figsize=(15,5))\n",
    "    data[column].plot(kind='hist', bins=50, ax=ax[0])\n",
    "    data[column].plot(kind='box', ax=ax[1])\n",
    "    plt.show()"
   ]
  },
  {
   "cell_type": "code",
   "execution_count": null,
   "metadata": {},
   "outputs": [],
   "source": [
    "draw_hist_and_boxplot('start_sum')\n",
    "\n",
    "\"\"\"У стартовой суммы значения от 100 тысяч до 3 миллионов, в большинстве случаев стартовая сумма составляет как раз минимальные 100 тысяч, выбросы - значения после одного миллиона.\"\"\"\n"
   ]
  },
  {
   "cell_type": "code",
   "execution_count": null,
   "metadata": {},
   "outputs": [],
   "source": [
    "data[data['start_sum'] > data['start_sum'].std() ]['start_sum'].describe()\n",
    "\n",
    "data[data['start_sum'] > 4* data['start_sum'].std()]\n",
    "\n",
    "\"\"\"выбросов нет\"\"\""
   ]
  },
  {
   "cell_type": "code",
   "execution_count": null,
   "metadata": {},
   "outputs": [],
   "source": [
    "draw_hist_and_boxplot('request')\n",
    "\n",
    "\"\"\"request - это количество заявок для сделки и здесь явно много выбросов и аномальных значений. В основном до 500 заявок, однако есть человек у которого было и 28 тысяч заявок **(по-моему это странно и надо об этом спросить).**\"\"\"\n"
   ]
  },
  {
   "cell_type": "code",
   "execution_count": null,
   "metadata": {},
   "outputs": [],
   "source": [
    "data[data['request'] > data['request'].std()]['request'].describe()\n",
    "\n",
    "draw_hist_and_boxplot('deals')\n",
    "\n",
    "\"\"\"То же самое и с количеством сделок, в основном их около 600, но встречаются и люди, у которых их 43 тысячи, **(что также странно и об этом, наверное, нужно спросить)**\"\"\"\n"
   ]
  },
  {
   "cell_type": "code",
   "execution_count": null,
   "metadata": {},
   "outputs": [],
   "source": [
    "draw_hist_and_boxplot('income_rub')\n",
    "\n",
    "\"\"\"В полне логично, что у всех разный доход, но можно заметить, что большинство людей выходят в 0. Судя по выбросам, есть супер богатые и банкроты )))\"\"\"\n"
   ]
  },
  {
   "cell_type": "code",
   "execution_count": null,
   "metadata": {},
   "outputs": [],
   "source": [
    "# вернуть дф, в котором удалены строчки, где значения превышают 3 std\n",
    "def del_rows_that_bigger(df, col):\n",
    "    \"\"\"\n",
    "    Deletes rows where the value of the specified column is greater than or less than \n",
    "    three standard deviations from the mean of the column.\n",
    "\n",
    "    Args:\n",
    "        df (pandas.DataFrame): The data in which rows will be deleted.\n",
    "        col (str): The column name from which the data will be analyzed.\n",
    "    \n",
    "    Returns:\n",
    "        pandas.DataFrame: Data with the deleted rows.\n",
    "\n",
    "    Raises:\n",
    "        None.\n",
    "    \"\"\"\n",
    "    return df[(df[col] > df[col].mean() - 3*df[col].std()) & \n",
    "              (df[col] < df[col].mean() + 3*df[col].std())]\n",
    "\n",
    "new_df = del_rows_that_bigger(data, 'income_rub')\n",
    "# Сколько удалилось:\n",
    "(data.shape[0] - new_df.shape[0])/data.shape[0]"
   ]
  },
  {
   "cell_type": "code",
   "execution_count": null,
   "metadata": {},
   "outputs": [],
   "source": [
    "df['class'].value_counts() # check how many target classes"
   ]
  }
 ],
 "metadata": {
  "language_info": {
   "name": "python"
  },
  "orig_nbformat": 4
 },
 "nbformat": 4,
 "nbformat_minor": 2
}
